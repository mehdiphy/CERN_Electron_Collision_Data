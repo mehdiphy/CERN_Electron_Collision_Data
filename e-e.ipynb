{
 "cells": [
  {
   "cell_type": "code",
   "execution_count": 1,
   "id": "a6678896",
   "metadata": {},
   "outputs": [],
   "source": [
    "import time\n",
    "import numpy as np\n",
    "import pandas as pd\n",
    "import seaborn as sns\n",
    "from sklearn.svm import LinearSVR\n",
    "from matplotlib import pyplot as plt\n",
    "from sklearn.model_selection import train_test_split\n",
    "from sklearn.metrics import mean_squared_error, explained_variance_score, make_scorer\n",
    "from sklearn.model_selection import GridSearchCV\n",
    "from sklearn.ensemble import RandomForestRegressor, StackingRegressor, GradientBoostingRegressor\n",
    "from xgboost import XGBRegressor\n"
   ]
  },
  {
   "cell_type": "code",
   "execution_count": 37,
   "id": "681f7fe2",
   "metadata": {},
   "outputs": [
    {
     "data": {
      "text/html": [
       "<div>\n",
       "<style scoped>\n",
       "    .dataframe tbody tr th:only-of-type {\n",
       "        vertical-align: middle;\n",
       "    }\n",
       "\n",
       "    .dataframe tbody tr th {\n",
       "        vertical-align: top;\n",
       "    }\n",
       "\n",
       "    .dataframe thead th {\n",
       "        text-align: right;\n",
       "    }\n",
       "</style>\n",
       "<table border=\"1\" class=\"dataframe\">\n",
       "  <thead>\n",
       "    <tr style=\"text-align: right;\">\n",
       "      <th></th>\n",
       "      <th>E1</th>\n",
       "      <th>pt1</th>\n",
       "      <th>E2</th>\n",
       "      <th>pt2</th>\n",
       "      <th>M</th>\n",
       "      <th>PHY</th>\n",
       "      <th>teta</th>\n",
       "      <th>QQ</th>\n",
       "    </tr>\n",
       "  </thead>\n",
       "  <tbody>\n",
       "    <tr>\n",
       "      <th>0</th>\n",
       "      <td>58.71410</td>\n",
       "      <td>12.82020</td>\n",
       "      <td>11.2836</td>\n",
       "      <td>2.14537</td>\n",
       "      <td>8.94841</td>\n",
       "      <td>4.250470</td>\n",
       "      <td>0.141360</td>\n",
       "      <td>-1</td>\n",
       "    </tr>\n",
       "    <tr>\n",
       "      <th>1</th>\n",
       "      <td>6.61188</td>\n",
       "      <td>4.19242</td>\n",
       "      <td>17.1492</td>\n",
       "      <td>12.75360</td>\n",
       "      <td>15.89300</td>\n",
       "      <td>-5.737760</td>\n",
       "      <td>-1.836497</td>\n",
       "      <td>-1</td>\n",
       "    </tr>\n",
       "    <tr>\n",
       "      <th>2</th>\n",
       "      <td>25.54190</td>\n",
       "      <td>11.66100</td>\n",
       "      <td>15.8203</td>\n",
       "      <td>2.69667</td>\n",
       "      <td>38.38770</td>\n",
       "      <td>0.817030</td>\n",
       "      <td>3.875560</td>\n",
       "      <td>1</td>\n",
       "    </tr>\n",
       "    <tr>\n",
       "      <th>3</th>\n",
       "      <td>65.39590</td>\n",
       "      <td>14.06190</td>\n",
       "      <td>25.1273</td>\n",
       "      <td>4.84272</td>\n",
       "      <td>3.72862</td>\n",
       "      <td>0.441345</td>\n",
       "      <td>-0.111830</td>\n",
       "      <td>-1</td>\n",
       "    </tr>\n",
       "    <tr>\n",
       "      <th>4</th>\n",
       "      <td>61.45040</td>\n",
       "      <td>14.91790</td>\n",
       "      <td>13.8871</td>\n",
       "      <td>2.44145</td>\n",
       "      <td>2.74718</td>\n",
       "      <td>0.313270</td>\n",
       "      <td>0.329950</td>\n",
       "      <td>1</td>\n",
       "    </tr>\n",
       "  </tbody>\n",
       "</table>\n",
       "</div>"
      ],
      "text/plain": [
       "         E1       pt1       E2       pt2         M       PHY      teta  QQ\n",
       "0  58.71410  12.82020  11.2836   2.14537   8.94841  4.250470  0.141360  -1\n",
       "1   6.61188   4.19242  17.1492  12.75360  15.89300 -5.737760 -1.836497  -1\n",
       "2  25.54190  11.66100  15.8203   2.69667  38.38770  0.817030  3.875560   1\n",
       "3  65.39590  14.06190  25.1273   4.84272   3.72862  0.441345 -0.111830  -1\n",
       "4  61.45040  14.91790  13.8871   2.44145   2.74718  0.313270  0.329950   1"
      ]
     },
     "execution_count": 37,
     "metadata": {},
     "output_type": "execute_result"
    }
   ],
   "source": [
    "df= pd.read_csv('/home/hajihashemi/Desktop/TSE/dielectron.csv') \n",
    "df['PHY']=df['phi1']-df['phi2']\n",
    "df['teta']=df['eta1']-df['eta2']\n",
    "df['QQ']=df['Q1']*df['Q2']\n",
    "df.dropna(inplace=True)\n",
    "df.drop(columns=['px1 ','px2','py1','py2','pz1','pz2','Q1','Q2','eta1','eta2','phi1','phi2','Run','Event'],inplace=True)\n",
    "df.head()"
   ]
  },
  {
   "cell_type": "code",
   "execution_count": 39,
   "id": "16643d4c",
   "metadata": {},
   "outputs": [
    {
     "name": "stderr",
     "output_type": "stream",
     "text": [
      "/home/hajihashemi/anaconda3/lib/python3.8/site-packages/pandas/core/frame.py:4308: SettingWithCopyWarning: \n",
      "A value is trying to be set on a copy of a slice from a DataFrame\n",
      "\n",
      "See the caveats in the documentation: https://pandas.pydata.org/pandas-docs/stable/user_guide/indexing.html#returning-a-view-versus-a-copy\n",
      "  return super().drop(\n"
     ]
    }
   ],
   "source": [
    "train_set,test_set=train_test_split(df,test_size=.2,random_state=35)\n",
    "train_tar=train_set['M']\n",
    "test_tar=test_set['M']\n",
    "train_set.drop('M',axis=1,inplace=True)\n",
    "test_set.drop('M',axis=1,inplace=True)"
   ]
  },
  {
   "cell_type": "code",
   "execution_count": 42,
   "id": "bf3a7fe7",
   "metadata": {},
   "outputs": [
    {
     "name": "stdout",
     "output_type": "stream",
     "text": [
      "1.3846984520103358\n"
     ]
    }
   ],
   "source": [
    "model = XGBRegressor()\n",
    "model.fit(train_set, train_tar)\n",
    "from sklearn.metrics import mean_absolute_error\n",
    "predict = model.predict(test_set)\n",
    "print(mean_absolute_error(predict,test_tar))"
   ]
  },
  {
   "cell_type": "code",
   "execution_count": 41,
   "id": "b09ad7ae",
   "metadata": {},
   "outputs": [
    {
     "name": "stdout",
     "output_type": "stream",
     "text": [
      "0.9879590125106341\n"
     ]
    }
   ],
   "source": [
    "model = RandomForestRegressor()\n",
    "model.fit(train_set, train_tar)\n",
    "predict = model.predict(test_set)\n",
    "print(mean_absolute_error(predict,test_tar))"
   ]
  },
  {
   "cell_type": "code",
   "execution_count": 49,
   "id": "e3df8b25",
   "metadata": {},
   "outputs": [
    {
     "name": "stdout",
     "output_type": "stream",
     "text": [
      "3.1425039086819844\n"
     ]
    }
   ],
   "source": [
    "model = GradientBoostingRegressor()\n",
    "model.fit(train_set, train_tar)\n",
    "predict = model.predict(test_set)\n",
    "print(mean_absolute_error(predict,test_tar))"
   ]
  },
  {
   "cell_type": "code",
   "execution_count": 47,
   "id": "b3e20b22",
   "metadata": {},
   "outputs": [],
   "source": []
  },
  {
   "cell_type": "code",
   "execution_count": null,
   "id": "c8e14f5f",
   "metadata": {},
   "outputs": [],
   "source": []
  },
  {
   "cell_type": "code",
   "execution_count": null,
   "id": "98b85180",
   "metadata": {},
   "outputs": [],
   "source": []
  }
 ],
 "metadata": {
  "kernelspec": {
   "display_name": "Python 3",
   "language": "python",
   "name": "python3"
  },
  "language_info": {
   "codemirror_mode": {
    "name": "ipython",
    "version": 3
   },
   "file_extension": ".py",
   "mimetype": "text/x-python",
   "name": "python",
   "nbconvert_exporter": "python",
   "pygments_lexer": "ipython3",
   "version": "3.8.8"
  }
 },
 "nbformat": 4,
 "nbformat_minor": 5
}
